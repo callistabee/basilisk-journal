{
 "cells": [
  {
   "cell_type": "markdown",
   "id": "19eb4a9c",
   "metadata": {},
   "source": [
    "### Tuesday, May 9th, 2023\n",
    "\n",
    "This code runs the main GDN program and initializes a model with stored weights."
   ]
  },
  {
   "cell_type": "code",
   "execution_count": 1,
   "id": "ef1c3090",
   "metadata": {},
   "outputs": [],
   "source": [
    "import os, sys"
   ]
  },
  {
   "cell_type": "code",
   "execution_count": 2,
   "id": "9a0c93d2",
   "metadata": {},
   "outputs": [],
   "source": [
    "sys.path = [\n",
    "    '', \n",
    "    '/home/callistb/miniconda3/envs/gdn/lib/python38.zip', \n",
    "    '/home/callistb/miniconda3/envs/gdn/lib/python3.8', \n",
    "    '/home/callistb/miniconda3/envs/gdn/lib/python3.8/lib-dynload', \n",
    "    '/home/callistb/miniconda3/envs/gdn/lib/python3.8/site-packages'\n",
    "]"
   ]
  },
  {
   "cell_type": "code",
   "execution_count": 3,
   "id": "7bc76834",
   "metadata": {},
   "outputs": [],
   "source": [
    "os.chdir('/home/callistb/GDN')"
   ]
  },
  {
   "cell_type": "code",
   "execution_count": 4,
   "id": "78cdb6cc",
   "metadata": {},
   "outputs": [],
   "source": [
    "from main import *"
   ]
  },
  {
   "cell_type": "code",
   "execution_count": 5,
   "id": "0f7815f0",
   "metadata": {},
   "outputs": [
    {
     "name": "stdout",
     "output_type": "stream",
     "text": [
      "=========================** Result **============================\n",
      "\n",
      "F1 score: 0.40275650842266464\n",
      "precision: 0.8885135135135135\n",
      "recall: 0.2603960396039604\n",
      "\n"
     ]
    }
   ],
   "source": [
    "random_seed = 5\n",
    "\n",
    "random.seed(random_seed)\n",
    "np.random.seed(random_seed)\n",
    "torch.manual_seed(random_seed)\n",
    "torch.cuda.manual_seed(random_seed)\n",
    "torch.cuda.manual_seed_all(random_seed)\n",
    "torch.backends.cudnn.benchmark = False\n",
    "torch.backends.cudnn.deterministic = True\n",
    "os.environ['PYTHONHASHSEED'] = str(random_seed)\n",
    "\n",
    "\n",
    "train_config = {\n",
    "    'batch': 32,\n",
    "    'epoch': 50,\n",
    "    'slide_win': 5,\n",
    "    'dim': 128,\n",
    "    'slide_stride': 1,\n",
    "    'comment': '',\n",
    "    'seed': random_seed,\n",
    "    'out_layer_num': 1,\n",
    "    'out_layer_inter_dim': 128,\n",
    "    'decay': 0,\n",
    "    'val_ratio': 0.2,\n",
    "    'topk': 30,\n",
    "}\n",
    "\n",
    "env_config={\n",
    "    'save_path': 'wadi',\n",
    "    'dataset': 'wadi',\n",
    "    'report': 'val',\n",
    "    'device': 'cuda',\n",
    "    'load_model_path': 'pretrained/wadi/best_05|04-15:46:47.pt'\n",
    "}\n",
    "\n",
    "\n",
    "main = Main(train_config, env_config, debug=False)\n",
    "main.run()"
   ]
  },
  {
   "cell_type": "code",
   "execution_count": 6,
   "id": "360f8e17",
   "metadata": {},
   "outputs": [
    {
     "data": {
      "text/plain": [
       "GDN(\n",
       "  (embedding): Embedding(127, 128)\n",
       "  (bn_outlayer_in): BatchNorm1d(128, eps=1e-05, momentum=0.1, affine=True, track_running_stats=True)\n",
       "  (gnn_layers): ModuleList(\n",
       "    (0): GNNLayer(\n",
       "      (gnn): GraphLayer(5, 128, heads=1)\n",
       "      (bn): BatchNorm1d(128, eps=1e-05, momentum=0.1, affine=True, track_running_stats=True)\n",
       "      (relu): ReLU()\n",
       "      (leaky_relu): LeakyReLU(negative_slope=0.01)\n",
       "    )\n",
       "  )\n",
       "  (out_layer): OutLayer(\n",
       "    (mlp): ModuleList(\n",
       "      (0): Linear(in_features=128, out_features=1, bias=True)\n",
       "    )\n",
       "  )\n",
       "  (dp): Dropout(p=0.2, inplace=False)\n",
       ")"
      ]
     },
     "execution_count": 6,
     "metadata": {},
     "output_type": "execute_result"
    }
   ],
   "source": [
    "main.model"
   ]
  },
  {
   "cell_type": "markdown",
   "id": "a0598b7c",
   "metadata": {},
   "source": [
    "Below we'll use their code to retrieve the predicted labels for the test set:"
   ]
  },
  {
   "cell_type": "code",
   "execution_count": 7,
   "id": "74a8c6bd",
   "metadata": {},
   "outputs": [],
   "source": [
    "# compute smoothed error scores for test and validation sets (from main.py/get_score)\n",
    "test_scores, normal_scores = get_full_err_scores(main.test_result, main.val_result)"
   ]
  },
  {
   "cell_type": "code",
   "execution_count": 11,
   "id": "9650bd82",
   "metadata": {},
   "outputs": [],
   "source": [
    "# get top 1 per-channel score at each time step (from evaluate.py/get_val_performance_data)\n",
    "topk=1\n",
    "n_features, n_timesteps = test_scores.shape\n",
    "topk_indices = np.argpartition(test_scores, range(n_features-topk-1, n_features), axis=0)[-topk:]\n",
    "total_topk_err_scores = np.sum(np.take_along_axis(test_scores, topk_indices, axis=0), axis=0)\n",
    "\n",
    "# threshold is the max error value of the validation set\n",
    "threshold = normal_scores.max()\n",
    "pred_labels = total_topk_err_scores > normal_scores.max()"
   ]
  },
  {
   "cell_type": "code",
   "execution_count": 12,
   "id": "00342d63",
   "metadata": {},
   "outputs": [],
   "source": [
    "# get ground truth labels\n",
    "_, _, test_labels = main.test_result\n",
    "test_labels = np.array(test_labels, dtype=int)[:,0]"
   ]
  },
  {
   "cell_type": "code",
   "execution_count": 27,
   "id": "bb754f81",
   "metadata": {},
   "outputs": [
    {
     "data": {
      "image/png": "[encoded data removed]",
      "text/plain": [
       "<Figure size 1000x300 with 1 Axes>"
      ]
     },
     "metadata": {},
     "output_type": "display_data"
    }
   ],
   "source": [
    "plt.figure(figsize=(10,3))\n",
    "\n",
    "x = np.arange(n_timesteps)\n",
    "\n",
    "# plot timesteps of labeled attacks\n",
    "plt.scatter(x, test_labels+0.1, color='green', label='labeled attack', marker='1')\n",
    "\n",
    "# plot timesteps of predicted attacks\n",
    "plt.scatter(x, pred_labels, color='purple', label='predicted attack', marker='2')\n",
    "\n",
    "plt.legend()\n",
    "plt.ylim(0.90, 1.20)\n",
    "plt.yticks(())\n",
    "plt.xlabel(\"timestep\")\n",
    "plt.show()"
   ]
  },
  {
   "cell_type": "markdown",
   "id": "615dbff1",
   "metadata": {},
   "source": [
    "Next we'll dive deeper into one of these attacks and try to see how the attention graph changes during the course of the attack."
   ]
  },
  {
   "cell_type": "code",
   "execution_count": null,
   "id": "341dcdbe",
   "metadata": {},
   "outputs": [],
   "source": []
  }
 ],
 "metadata": {
  "kernelspec": {
   "display_name": "Python 3 (ipykernel)",
   "language": "python",
   "name": "python3"
  },
  "language_info": {
   "codemirror_mode": {
    "name": "ipython",
    "version": 3
   },
   "file_extension": ".py",
   "mimetype": "text/x-python",
   "name": "python",
   "nbconvert_exporter": "python",
   "pygments_lexer": "ipython3",
   "version": "3.8.16"
  }
 },
 "nbformat": 4,
 "nbformat_minor": 5
}
