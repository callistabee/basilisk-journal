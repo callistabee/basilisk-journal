{
 "cells": [
  {
   "cell_type": "markdown",
   "id": "745461c0",
   "metadata": {},
   "source": [
    "### Tuesday, May 23rd, 2023\n",
    "\n",
    "The cluster is down for maintenance this week, and I've been having reliability issues with Google Colab lately, so I'm using a GPU box I have at home for the time being.\n"
   ]
  },
  {
   "cell_type": "code",
   "execution_count": 1,
   "id": "3ef5f313",
   "metadata": {},
   "outputs": [],
   "source": [
    "import torch\n",
    "\n",
    "import pyro\n",
    "import pyro.distributions as dist\n",
    "\n",
    "from torch_geometric.data import Data\n",
    "from torch_geometric.datasets import KarateClub\n",
    "from torch_geometric.utils import (\n",
    "    stochastic_blockmodel_graph,\n",
    "    to_networkx\n",
    ")\n",
    "\n",
    "import networkx as nx\n",
    "import matplotlib.pyplot as plt"
   ]
  },
  {
   "cell_type": "code",
   "execution_count": null,
   "id": "195fce01",
   "metadata": {},
   "outputs": [],
   "source": []
  },
  {
   "cell_type": "code",
   "execution_count": 32,
   "id": "5e346981",
   "metadata": {},
   "outputs": [
    {
     "data": {
      "text/plain": [
       "tensor([13, 12, 11,  9,  6, 10, 10, 13,  7, 11, 10,  2, 14,  1,  0, 15, 10,  5,\n",
       "         8, 14, 15,  7,  4,  8, 14,  6, 15, 14,  2,  1,  5,  1,  6, 10,  9,  3,\n",
       "        15,  7,  7,  1,  2, 15,  8,  5,  0,  9,  9,  8,  5,  9,  8, 15,  3,  5,\n",
       "         1,  5, 14, 10,  2, 15,  9, 11,  1,  7, 13, 10,  0,  8,  6,  5,  4,  0,\n",
       "         6,  7, 15, 11,  2,  3, 11, 14,  0, 11, 13,  3,  7, 11, 14,  6, 11, 10,\n",
       "         8,  2, 11,  5,  9,  5,  2, 13, 11,  8, 15, 10,  7,  3,  5,  6,  6,  8,\n",
       "         1,  6, 15,  0,  2,  2,  0,  8, 12,  1,  8,  7, 11, 12, 13, 11,  4,  1,\n",
       "         9])"
      ]
     },
     "execution_count": 32,
     "metadata": {},
     "output_type": "execute_result"
    }
   ],
   "source": [
    "pyro.clear_param_store()\n",
    "num_nodes = 127\n",
    "\n",
    "n_blocks_logits = pyro.param(\"n_blocks_logits\", torch.randn(num_nodes))\n",
    "n_blocks_distrib = dist.Categorical(logits=n_blocks_logits)\n",
    "n_blocks = pyro.sample(\"n_blocks\", n_blocks_distrib)\n",
    "\n",
    "block_assignments = []\n",
    "for i in range(num_nodes):\n",
    "    assignment_logits = pyro.param(f\"assigment_logits_{i}\", torch.randn(n_blocks))\n",
    "    assignment_dist = dist.Categorical(logits=assignment_logits)\n",
    "    \n",
    "    block_assignments.append(\n",
    "        pyro.sample(f\"block_assignment_{i}\", assignment_dist)\n",
    "    )    \n",
    "block_assignments = torch.Tensor(block_assignments).long()\n",
    "block_assignments\n",
    "\n",
    "#block_sizes = []\n",
    "#for i in range(n_blocks):\n",
    "#    block_sizes.append(\n",
    "#        (block_assignments == i).sum()\n",
    "#    )\n",
    "#block_sizes = torch.Tensor(block_sizes).long()\n",
    "#block_sizes"
   ]
  },
  {
   "cell_type": "code",
   "execution_count": null,
   "id": "6ca3b935",
   "metadata": {},
   "outputs": [],
   "source": []
  },
  {
   "cell_type": "code",
   "execution_count": 25,
   "id": "43ed1f30",
   "metadata": {},
   "outputs": [],
   "source": [
    "block_probs = pyro.param(\"block_probs\", torch.rand(n_blocks, n_blocks))"
   ]
  },
  {
   "cell_type": "code",
   "execution_count": 27,
   "id": "2d86601d",
   "metadata": {},
   "outputs": [],
   "source": [
    "edge_index = stochastic_blockmodel_graph(\n",
    "    block_sizes,\n",
    "    block_probs,\n",
    "    directed=True\n",
    ")"
   ]
  },
  {
   "cell_type": "code",
   "execution_count": 29,
   "id": "45853090",
   "metadata": {},
   "outputs": [
    {
     "data": {
      "text/plain": [
       "torch.Size([2, 7925])"
      ]
     },
     "execution_count": 29,
     "metadata": {},
     "output_type": "execute_result"
    }
   ],
   "source": [
    "edge_index.shape"
   ]
  },
  {
   "cell_type": "code",
   "execution_count": 45,
   "id": "e0ec3fb9",
   "metadata": {},
   "outputs": [
    {
     "data": {
      "text/plain": [
       "tensor([[0., 0., 0., 1.],\n",
       "        [0., 1., 1., 0.]])"
      ]
     },
     "execution_count": 45,
     "metadata": {},
     "output_type": "execute_result"
    }
   ],
   "source": [
    "torch.bernoulli(torch.tensor([[0.3, 0.4, 0.1, 1.0],[0.1, 0.3, 0.8, 0.2]]))"
   ]
  },
  {
   "cell_type": "code",
   "execution_count": 48,
   "id": "ec146bc2",
   "metadata": {},
   "outputs": [
    {
     "data": {
      "text/plain": [
       "tensor([[  0,   0,   0,  ..., 124, 124, 125],\n",
       "        [  1,   2,   3,  ..., 125, 126, 126]])"
      ]
     },
     "execution_count": 48,
     "metadata": {},
     "output_type": "execute_result"
    }
   ],
   "source": [
    "torch.combinations(torch.arange(num_nodes), r=2).t()"
   ]
  },
  {
   "cell_type": "code",
   "execution_count": null,
   "id": "a2a36c16",
   "metadata": {},
   "outputs": [],
   "source": []
  },
  {
   "cell_type": "code",
   "execution_count": 7,
   "id": "ed4008f4",
   "metadata": {},
   "outputs": [],
   "source": [
    "from torch_geometric.datasets import KarateClub"
   ]
  },
  {
   "cell_type": "code",
   "execution_count": 118,
   "id": "77758216",
   "metadata": {},
   "outputs": [],
   "source": [
    "n_blocks = 4\n",
    "min_size = 5\n",
    "max_size = 10\n",
    "\n",
    "block_sizes = torch.randint(min_size, max_size, size=(n_blocks,))\n",
    "block_probs = torch.rand(n_blocks, n_blocks)\n",
    "edge_index = stochastic_blockmodel_graph(\n",
    "    block_sizes,\n",
    "    block_probs,\n",
    "    directed=True\n",
    ")\n",
    "#data = Data(x=torch.randn(block_sizes.sum()), edge_index=edge_index)\n",
    "#G = to_networkx(data)\n",
    "\n",
    "#plt.figure(figsize=(10,10), dpi=200)\n",
    "#nx.draw_networkx(G, pos=nx.spectral_layout(G), with_labels=False, node_size=5, width=0.1, arrows=False)"
   ]
  },
  {
   "cell_type": "code",
   "execution_count": 119,
   "id": "f02370ba",
   "metadata": {},
   "outputs": [
    {
     "data": {
      "text/plain": [
       "torch.Size([2, 362])"
      ]
     },
     "execution_count": 119,
     "metadata": {},
     "output_type": "execute_result"
    }
   ],
   "source": [
    "edge_index.shape"
   ]
  },
  {
   "cell_type": "code",
   "execution_count": 120,
   "id": "658bea11",
   "metadata": {},
   "outputs": [],
   "source": [
    "kc = KarateClub().get(0)"
   ]
  },
  {
   "cell_type": "code",
   "execution_count": 121,
   "id": "b60b874f",
   "metadata": {},
   "outputs": [
    {
     "data": {
      "text/plain": [
       "torch.Size([2, 156])"
      ]
     },
     "execution_count": 121,
     "metadata": {},
     "output_type": "execute_result"
    }
   ],
   "source": [
    "kc.edge_index.shape"
   ]
  },
  {
   "cell_type": "code",
   "execution_count": null,
   "id": "f8bb4316",
   "metadata": {},
   "outputs": [],
   "source": []
  }
 ],
 "metadata": {
  "kernelspec": {
   "display_name": "Python 3 (ipykernel)",
   "language": "python",
   "name": "python3"
  },
  "language_info": {
   "codemirror_mode": {
    "name": "ipython",
    "version": 3
   },
   "file_extension": ".py",
   "mimetype": "text/x-python",
   "name": "python",
   "nbconvert_exporter": "python",
   "pygments_lexer": "ipython3",
   "version": "3.11.3"
  }
 },
 "nbformat": 4,
 "nbformat_minor": 5
}
