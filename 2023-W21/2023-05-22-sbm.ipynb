{
 "cells": [
  {
   "cell_type": "code",
   "execution_count": 1,
   "id": "a4f3b8e4",
   "metadata": {},
   "outputs": [],
   "source": [
    "import torch"
   ]
  },
  {
   "cell_type": "code",
   "execution_count": 11,
   "id": "960330ca",
   "metadata": {},
   "outputs": [],
   "source": [
    "import pyro"
   ]
  },
  {
   "cell_type": "code",
   "execution_count": 2,
   "id": "c717bbe4",
   "metadata": {},
   "outputs": [],
   "source": [
    "import pyro.distributions as dist"
   ]
  },
  {
   "cell_type": "code",
   "execution_count": 3,
   "id": "dd38f2c1",
   "metadata": {},
   "outputs": [],
   "source": [
    "from torch_geometric.utils import stochastic_blockmodel_graph, get_laplacian"
   ]
  },
  {
   "cell_type": "code",
   "execution_count": 4,
   "id": "ce0b8926",
   "metadata": {},
   "outputs": [],
   "source": [
    "from torch_geometric.utils import to_networkx"
   ]
  },
  {
   "cell_type": "code",
   "execution_count": 5,
   "id": "2eeb46c4",
   "metadata": {},
   "outputs": [],
   "source": [
    "from torch_geometric.data import Data"
   ]
  },
  {
   "cell_type": "code",
   "execution_count": 6,
   "id": "121681aa",
   "metadata": {},
   "outputs": [],
   "source": [
    "import networkx as nx\n",
    "import matplotlib.pyplot as plt"
   ]
  },
  {
   "cell_type": "code",
   "execution_count": null,
   "id": "195fce01",
   "metadata": {},
   "outputs": [],
   "source": []
  },
  {
   "cell_type": "code",
   "execution_count": 239,
   "id": "5e346981",
   "metadata": {},
   "outputs": [],
   "source": [
    "pyro.clear_param_store()\n",
    "num_nodes = 127\n",
    "\n",
    "n_blocks_logits = pyro.param(\"n_block_logits\", torch.randn(num_nodes))\n",
    "n_blocks_distrib = dist.Categorical(logits=n_block_logits)\n",
    "n_blocks = pyro.sample(\"n_blocks\", n_blocks_distrib)\n",
    "\n",
    "block_assignments = []\n",
    "for i in range(num_sensors):\n",
    "    assignment_logits = pyro.param(f\"assigment_logits_{i}\", torch.randn(n_blocks))\n",
    "    assignment_dist = dist.Categorical(logits=assignment_logits)\n",
    "    \n",
    "    block_assignments.append(\n",
    "        pyro.sample(f\"block_assignment_{i}\", assignment_dist)\n",
    "    )    \n",
    "block_assignments = torch.Tensor(block_assignments)\n",
    "\n",
    "block_sizes = []\n",
    "for i in range(n_blocks):\n",
    "    block_sizes.append(\n",
    "        (block_assignments == i).sum()\n",
    "    )\n",
    "block_sizes = torch.Tensor(block_sizes).long()"
   ]
  },
  {
   "cell_type": "code",
   "execution_count": null,
   "id": "55982a40",
   "metadata": {},
   "outputs": [],
   "source": []
  },
  {
   "cell_type": "code",
   "execution_count": 7,
   "id": "ed4008f4",
   "metadata": {},
   "outputs": [],
   "source": [
    "from torch_geometric.datasets import KarateClub"
   ]
  },
  {
   "cell_type": "code",
   "execution_count": 118,
   "id": "77758216",
   "metadata": {},
   "outputs": [],
   "source": [
    "n_blocks = 4\n",
    "min_size = 5\n",
    "max_size = 10\n",
    "\n",
    "block_sizes = torch.randint(min_size, max_size, size=(n_blocks,))\n",
    "block_probs = torch.rand(n_blocks, n_blocks)\n",
    "edge_index = stochastic_blockmodel_graph(\n",
    "    block_sizes,\n",
    "    block_probs,\n",
    "    directed=True\n",
    ")\n",
    "#data = Data(x=torch.randn(block_sizes.sum()), edge_index=edge_index)\n",
    "#G = to_networkx(data)\n",
    "\n",
    "#plt.figure(figsize=(10,10), dpi=200)\n",
    "#nx.draw_networkx(G, pos=nx.spectral_layout(G), with_labels=False, node_size=5, width=0.1, arrows=False)"
   ]
  },
  {
   "cell_type": "code",
   "execution_count": 119,
   "id": "f02370ba",
   "metadata": {},
   "outputs": [
    {
     "data": {
      "text/plain": [
       "torch.Size([2, 362])"
      ]
     },
     "execution_count": 119,
     "metadata": {},
     "output_type": "execute_result"
    }
   ],
   "source": [
    "edge_index.shape"
   ]
  },
  {
   "cell_type": "code",
   "execution_count": 120,
   "id": "658bea11",
   "metadata": {},
   "outputs": [],
   "source": [
    "kc = KarateClub().get(0)"
   ]
  },
  {
   "cell_type": "code",
   "execution_count": 121,
   "id": "b60b874f",
   "metadata": {},
   "outputs": [
    {
     "data": {
      "text/plain": [
       "torch.Size([2, 156])"
      ]
     },
     "execution_count": 121,
     "metadata": {},
     "output_type": "execute_result"
    }
   ],
   "source": [
    "kc.edge_index.shape"
   ]
  },
  {
   "cell_type": "code",
   "execution_count": null,
   "id": "f8bb4316",
   "metadata": {},
   "outputs": [],
   "source": []
  }
 ],
 "metadata": {
  "kernelspec": {
   "display_name": "Python 3 (ipykernel)",
   "language": "python",
   "name": "python3"
  },
  "language_info": {
   "codemirror_mode": {
    "name": "ipython",
    "version": 3
   },
   "file_extension": ".py",
   "mimetype": "text/x-python",
   "name": "python",
   "nbconvert_exporter": "python",
   "pygments_lexer": "ipython3",
   "version": "3.11.3"
  }
 },
 "nbformat": 4,
 "nbformat_minor": 5
}
