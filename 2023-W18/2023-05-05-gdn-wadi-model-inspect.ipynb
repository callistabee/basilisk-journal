{
 "cells": [
  {
   "cell_type": "markdown",
   "id": "19eb4a9c",
   "metadata": {},
   "source": [
    "### Friday, May 5th, 2023\n",
    "\n",
    "With a couple of tricks we can copy run the GDN main program in this notebook, then poke at the trained model."
   ]
  },
  {
   "cell_type": "code",
   "execution_count": 4,
   "id": "ef1c3090",
   "metadata": {},
   "outputs": [],
   "source": [
    "import os, sys"
   ]
  },
  {
   "cell_type": "code",
   "execution_count": 6,
   "id": "9a0c93d2",
   "metadata": {},
   "outputs": [],
   "source": [
    "sys.path = [\n",
    "    '', \n",
    "    '/home/callistb/miniconda3/envs/gdn/lib/python38.zip', \n",
    "    '/home/callistb/miniconda3/envs/gdn/lib/python3.8', \n",
    "    '/home/callistb/miniconda3/envs/gdn/lib/python3.8/lib-dynload', \n",
    "    '/home/callistb/miniconda3/envs/gdn/lib/python3.8/site-packages'\n",
    "]"
   ]
  },
  {
   "cell_type": "code",
   "execution_count": 5,
   "id": "7bc76834",
   "metadata": {},
   "outputs": [],
   "source": [
    "os.chdir('/home/callistb/GDN')"
   ]
  },
  {
   "cell_type": "code",
   "execution_count": 7,
   "id": "78cdb6cc",
   "metadata": {},
   "outputs": [],
   "source": [
    "from main import *"
   ]
  },
  {
   "cell_type": "code",
   "execution_count": 24,
   "id": "0f7815f0",
   "metadata": {},
   "outputs": [
    {
     "name": "stdout",
     "output_type": "stream",
     "text": [
      "=========================** Result **============================\n",
      "\n",
      "F1 score: 0.40275650842266464\n",
      "precision: 0.8885135135135135\n",
      "recall: 0.2603960396039604\n",
      "\n"
     ]
    }
   ],
   "source": [
    "random_seed = 5\n",
    "\n",
    "random.seed(random_seed)\n",
    "np.random.seed(random_seed)\n",
    "torch.manual_seed(random_seed)\n",
    "torch.cuda.manual_seed(random_seed)\n",
    "torch.cuda.manual_seed_all(random_seed)\n",
    "torch.backends.cudnn.benchmark = False\n",
    "torch.backends.cudnn.deterministic = True\n",
    "os.environ['PYTHONHASHSEED'] = str(random_seed)\n",
    "\n",
    "\n",
    "train_config = {\n",
    "    'batch': 32,\n",
    "    'epoch': 50,\n",
    "    'slide_win': 5,\n",
    "    'dim': 128,\n",
    "    'slide_stride': 1,\n",
    "    'comment': '',\n",
    "    'seed': random_seed,\n",
    "    'out_layer_num': 1,\n",
    "    'out_layer_inter_dim': 128,\n",
    "    'decay': 0,\n",
    "    'val_ratio': 0.2,\n",
    "    'topk': 30,\n",
    "}\n",
    "\n",
    "env_config={\n",
    "    'save_path': 'wadi',\n",
    "    'dataset': 'wadi',\n",
    "    'report': 'val',\n",
    "    'device': 'cuda',\n",
    "    'load_model_path': 'pretrained/wadi/best_05|04-15:46:47.pt'\n",
    "}\n",
    "\n",
    "\n",
    "main = Main(train_config, env_config, debug=False)\n",
    "main.run()"
   ]
  },
  {
   "cell_type": "code",
   "execution_count": 25,
   "id": "360f8e17",
   "metadata": {},
   "outputs": [
    {
     "data": {
      "text/plain": [
       "GDN(\n",
       "  (embedding): Embedding(127, 128)\n",
       "  (bn_outlayer_in): BatchNorm1d(128, eps=1e-05, momentum=0.1, affine=True, track_running_stats=True)\n",
       "  (gnn_layers): ModuleList(\n",
       "    (0): GNNLayer(\n",
       "      (gnn): GraphLayer(5, 128, heads=1)\n",
       "      (bn): BatchNorm1d(128, eps=1e-05, momentum=0.1, affine=True, track_running_stats=True)\n",
       "      (relu): ReLU()\n",
       "      (leaky_relu): LeakyReLU(negative_slope=0.01)\n",
       "    )\n",
       "  )\n",
       "  (out_layer): OutLayer(\n",
       "    (mlp): ModuleList(\n",
       "      (0): Linear(in_features=128, out_features=1, bias=True)\n",
       "    )\n",
       "  )\n",
       "  (dp): Dropout(p=0.2, inplace=False)\n",
       ")"
      ]
     },
     "execution_count": 25,
     "metadata": {},
     "output_type": "execute_result"
    }
   ],
   "source": [
    "main.model"
   ]
  },
  {
   "cell_type": "markdown",
   "id": "c5bc013f",
   "metadata": {},
   "source": [
    "Next week I'll dig into the model and try to reproduce some of the figures from the paper."
   ]
  },
  {
   "cell_type": "code",
   "execution_count": null,
   "id": "e082f038",
   "metadata": {},
   "outputs": [],
   "source": []
  }
 ],
 "metadata": {
  "kernelspec": {
   "display_name": "Python 3 (ipykernel)",
   "language": "python",
   "name": "python3"
  },
  "language_info": {
   "codemirror_mode": {
    "name": "ipython",
    "version": 3
   },
   "file_extension": ".py",
   "mimetype": "text/x-python",
   "name": "python",
   "nbconvert_exporter": "python",
   "pygments_lexer": "ipython3",
   "version": "3.8.16"
  }
 },
 "nbformat": 4,
 "nbformat_minor": 5
}
