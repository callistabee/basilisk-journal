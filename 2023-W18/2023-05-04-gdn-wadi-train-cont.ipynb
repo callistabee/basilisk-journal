{
 "cells": [
  {
   "attachments": {},
   "cell_type": "markdown",
   "id": "1e9c588d",
   "metadata": {},
   "source": [
    "### Thursday, May 4th, 2023\n",
    "After spending the day tweaking various hyperparameters, this setup seems to give the best results (though still not quite up to the ones in the paper):"
   ]
  },
  {
   "cell_type": "code",
   "execution_count": 1,
   "id": "be69789a",
   "metadata": {},
   "outputs": [
    {
     "name": "stdout",
     "output_type": "stream",
     "text": [
      "gpu_n=$1\r\n",
      "DATASET=$2\r\n",
      "\r\n",
      "seed=5\r\n",
      "BATCH_SIZE=32\r\n",
      "SLIDE_WIN=5\r\n",
      "dim=128\r\n",
      "out_layer_num=1\r\n",
      "SLIDE_STRIDE=1\r\n",
      "topk=30\r\n",
      "out_layer_inter_dim=128\r\n",
      "val_ratio=0.2\r\n",
      "decay=0\r\n",
      "\r\n",
      "\r\n",
      "path_pattern=\"${DATASET}\"\r\n",
      "COMMENT=\"${DATASET}\"\r\n",
      "\r\n",
      "EPOCH=50\r\n",
      "report='val'\r\n",
      "\r\n",
      "if [[ \"$gpu_n\" == \"cpu\" ]]; then\r\n",
      "    python main.py \\\r\n",
      "        -dataset $DATASET \\\r\n",
      "        -save_path_pattern $path_pattern \\\r\n",
      "        -slide_stride $SLIDE_STRIDE \\\r\n",
      "        -slide_win $SLIDE_WIN \\\r\n",
      "        -batch $BATCH_SIZE \\\r\n",
      "        -epoch $EPOCH \\\r\n",
      "        -comment $COMMENT \\\r\n",
      "        -random_seed $seed \\\r\n",
      "        -decay $decay \\\r\n",
      "        -dim $dim \\\r\n",
      "        -out_layer_num $out_layer_num \\\r\n",
      "        -out_layer_inter_dim $out_layer_inter_dim \\\r\n",
      "        -decay $decay \\\r\n",
      "        -val_ratio $val_ratio \\\r\n",
      "        -report $report \\\r\n",
      "        -topk $topk \\\r\n",
      "        -device 'cpu'\r\n",
      "else\r\n",
      "    CUDA_VISIBLE_DEVICES=$gpu_n  python main.py \\\r\n",
      "        -dataset $DATASET \\\r\n",
      "        -save_path_pattern $path_pattern \\\r\n",
      "        -slide_stride $SLIDE_STRIDE \\\r\n",
      "        -slide_win $SLIDE_WIN \\\r\n",
      "        -batch $BATCH_SIZE \\\r\n",
      "        -epoch $EPOCH \\\r\n",
      "        -comment $COMMENT \\\r\n",
      "        -random_seed $seed \\\r\n",
      "        -decay $decay \\\r\n",
      "        -dim $dim \\\r\n",
      "        -out_layer_num $out_layer_num \\\r\n",
      "        -out_layer_inter_dim $out_layer_inter_dim \\\r\n",
      "        -decay $decay \\\r\n",
      "        -val_ratio $val_ratio \\\r\n",
      "        -report $report \\\r\n",
      "        -topk $topk\r\n",
      "fi"
     ]
    }
   ],
   "source": [
    "!sed \\\n",
    "    -e s/EPOCH=30/EPOCH=50/ \\\n",
    "    -e s/dim=64/dim=128/ \\\n",
    "    -e s/topk=5/topk=30/ \\\n",
    "    -e \"s/report='best'/report='val'/\" \\\n",
    "    /home/callistb/GDN/run.sh \\\n",
    "| tee /home/callistb/GDN/run_wadi.sh"
   ]
  },
  {
   "cell_type": "code",
   "execution_count": 2,
   "id": "f56c0e4b",
   "metadata": {},
   "outputs": [
    {
     "name": "stdout",
     "output_type": "stream",
     "text": [
      "epoch (0 / 50) (Loss:0.01378797, ACU_loss:26.30744954)\n",
      "epoch (1 / 50) (Loss:0.00619963, ACU_loss:11.82889715)\n",
      "epoch (2 / 50) (Loss:0.00590365, ACU_loss:11.26415708)\n",
      "epoch (3 / 50) (Loss:0.00566457, ACU_loss:10.80799861)\n",
      "epoch (4 / 50) (Loss:0.00544914, ACU_loss:10.39695037)\n",
      "epoch (5 / 50) (Loss:0.00524276, ACU_loss:10.00318858)\n",
      "epoch (6 / 50) (Loss:0.00509187, ACU_loss:9.71529414)\n",
      "epoch (7 / 50) (Loss:0.00509608, ACU_loss:9.72331393)\n",
      "epoch (8 / 50) (Loss:0.00510939, ACU_loss:9.74871774)\n",
      "epoch (9 / 50) (Loss:0.00510418, ACU_loss:9.73877310)\n",
      "epoch (10 / 50) (Loss:0.00500515, ACU_loss:9.54982139)\n",
      "epoch (11 / 50) (Loss:0.00494683, ACU_loss:9.43854581)\n",
      "epoch (12 / 50) (Loss:0.00493493, ACU_loss:9.41584732)\n",
      "epoch (13 / 50) (Loss:0.00493241, ACU_loss:9.41102879)\n",
      "epoch (14 / 50) (Loss:0.00483406, ACU_loss:9.22338959)\n",
      "epoch (15 / 50) (Loss:0.00479815, ACU_loss:9.15486210)\n",
      "epoch (16 / 50) (Loss:0.00477202, ACU_loss:9.10502044)\n",
      "epoch (17 / 50) (Loss:0.00485770, ACU_loss:9.26848339)\n",
      "epoch (18 / 50) (Loss:0.00483941, ACU_loss:9.23359806)\n",
      "epoch (19 / 50) (Loss:0.00482553, ACU_loss:9.20711914)\n",
      "epoch (20 / 50) (Loss:0.00487552, ACU_loss:9.30249567)\n",
      "epoch (21 / 50) (Loss:0.00489096, ACU_loss:9.33196038)\n",
      "epoch (22 / 50) (Loss:0.00493146, ACU_loss:9.40921777)\n",
      "epoch (23 / 50) (Loss:0.00483397, ACU_loss:9.22321722)\n",
      "=========================** Result **============================\n",
      "\n",
      "F1 score: 0.40275650842266464\n",
      "precision: 0.8885135135135135\n",
      "recall: 0.2603960396039604\n",
      "\n"
     ]
    }
   ],
   "source": [
    "!cd /home/callistb/GDN; bash run_wadi.sh 0 wadi"
   ]
  },
  {
   "attachments": {
    "image.png": {
     "image/png": "[encoded data removed]"
    }
   },
   "cell_type": "markdown",
   "id": "b83aecd8",
   "metadata": {},
   "source": [
    "![image.png](attachment:image.png)\n",
    "\n",
    "The precision has improved from yesterday (up from 0.49), but the recall is down from 0.4. I'll inspect the trained model some tomorrow and see what it's doing."
   ]
  },
  {
   "cell_type": "code",
   "execution_count": null,
   "id": "3ebd9ecc",
   "metadata": {},
   "outputs": [],
   "source": []
  }
 ],
 "metadata": {
  "kernelspec": {
   "display_name": "Python 3 (ipykernel)",
   "language": "python",
   "name": "python3"
  },
  "language_info": {
   "codemirror_mode": {
    "name": "ipython",
    "version": 3
   },
   "file_extension": ".py",
   "mimetype": "text/x-python",
   "name": "python",
   "nbconvert_exporter": "python",
   "pygments_lexer": "ipython3",
   "version": "3.8.16"
  }
 },
 "nbformat": 4,
 "nbformat_minor": 5
}
