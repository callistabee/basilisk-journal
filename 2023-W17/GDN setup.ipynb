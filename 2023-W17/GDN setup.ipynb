{
 "cells": [
  {
   "cell_type": "markdown",
   "id": "8f9604ab",
   "metadata": {},
   "source": [
    "### Thursday, April 27th, 2023\n",
    "\n",
    "Attempting to install GDN (https://github.com/d-ailin/GDN).\n",
    "\n",
    "Steps: \n",
    "1. install torch==1.5.1 on the cluster and start a jupyter server\n",
    "   ```\n",
    "   # connect to external node, binding local 8888 (jupyter) to remote 8869 (arbitrary)\n",
    "   $ ssh -L 8888:localhost:8869 callistb@zelus.rc.pdx.edu\n",
    "   \n",
    "       # connect to cluster head node, binding local 8869 to remote 8869\n",
    "       callistb@zelus:~$ ssh -L 8869:localhost:8869 login2.coeus\n",
    "   \n",
    "           # load the python3 module and create a python3 virtualenv\n",
    "           [callistb@login2 ~]$ module load Python/gcc/3.8.0/gcc-6.3.0\n",
    "           [callistb@login2 ~]$ python3 -m virtualenv --python=python3.8 torch-1.5.1\n",
    "           [callistb@login2 ~]$ module unload Python/gcc/3.8.0/gcc-6.3.0 \n",
    "           \n",
    "           # activate the virtualenv\n",
    "           [callistb@login2 ~]$ source torch-1.5.1/bin/activate\n",
    "   \n",
    "               # install packages\n",
    "               (torch-1.5.1) [callistb@login2 ~]$ pip install torch==1.5.1 torchvision==0.6.1\n",
    "               (torch-1.5.1) [callistb@login2 ~]$ pip install jupyter\n",
    "               (torch-1.5.1) [callistb@login2 ~]$ deactivate\n",
    "   \n",
    "           # allocate a gpu machine\n",
    "           [callistb@login2 ~]$ salloc --partition=gpu\n",
    "           salloc: Granted job allocation 5692797\n",
    "           salloc: Waiting for resource configuration\n",
    "           salloc: Nodes gpu01 are ready for job\n",
    "           \n",
    "           # connect to allocated machine, binding local 8869 to remote 8888 (jupyter)\n",
    "           [callistb@login2 ~]$ ssh -L 8869:localhost:8888 gpu01\n",
    "           \n",
    "               # activate the virtualenv\n",
    "               callistb@gpu01:~$ source torch-1.5.1/bin/activate\n",
    "               \n",
    "                   # fire up jupyter, paste the url into your browser\n",
    "                   (torch-1.5.1) callistb@gpu01:~$ jupyter notebook\n",
    "   ```"
   ]
  },
  {
   "cell_type": "code",
   "execution_count": 1,
   "id": "f6a6060d",
   "metadata": {},
   "outputs": [],
   "source": [
    "import torch"
   ]
  },
  {
   "cell_type": "code",
   "execution_count": 2,
   "id": "e3c4a693",
   "metadata": {},
   "outputs": [
    {
     "data": {
      "text/plain": [
       "True"
      ]
     },
     "execution_count": 2,
     "metadata": {},
     "output_type": "execute_result"
    }
   ],
   "source": [
    "torch.cuda.is_available()"
   ]
  },
  {
   "cell_type": "code",
   "execution_count": 3,
   "id": "da949a33",
   "metadata": {},
   "outputs": [],
   "source": [
    "# whew"
   ]
  },
  {
   "cell_type": "code",
   "execution_count": null,
   "id": "b6f37d42",
   "metadata": {},
   "outputs": [],
   "source": []
  },
  {
   "cell_type": "code",
   "execution_count": 4,
   "id": "ee2bafd6",
   "metadata": {},
   "outputs": [
    {
     "name": "stdout",
     "output_type": "stream",
     "text": [
      "Cloning into 'GDN'...\n",
      "remote: Enumerating objects: 54, done.\u001b[K\n",
      "remote: Counting objects: 100% (27/27), done.\u001b[K\n",
      "remote: Compressing objects: 100% (21/21), done.\u001b[K\n",
      "remote: Total 54 (delta 10), reused 6 (delta 6), pack-reused 27\u001b[K\n",
      "Receiving objects: 100% (54/54), 473.31 KiB | 2.08 MiB/s, done.\n",
      "Resolving deltas: 100% (13/13), done.\n"
     ]
    }
   ],
   "source": [
    "!git clone git@github.com:d-ailin/GDN.git"
   ]
  },
  {
   "cell_type": "code",
   "execution_count": 5,
   "id": "cc3a78a6",
   "metadata": {},
   "outputs": [
    {
     "name": "stdout",
     "output_type": "stream",
     "text": [
      "Collecting torch-geometric==1.5.0\n",
      "  Downloading torch_geometric-1.5.0.tar.gz (153 kB)\n",
      "\u001b[K     |████████████████████████████████| 153 kB 26.3 MB/s eta 0:00:01\n",
      "\u001b[?25hCollecting ase\n",
      "  Downloading ase-3.22.1-py3-none-any.whl (2.2 MB)\n",
      "\u001b[K     |████████████████████████████████| 2.2 MB 43.4 MB/s eta 0:00:01\n",
      "\u001b[?25hCollecting googledrivedownloader\n",
      "  Downloading googledrivedownloader-0.4-py2.py3-none-any.whl (3.9 kB)\n",
      "Collecting h5py\n",
      "  Downloading h5py-3.8.0-cp38-cp38-manylinux_2_17_x86_64.manylinux2014_x86_64.whl (4.7 MB)\n",
      "\u001b[K     |████████████████████████████████| 4.7 MB 62.9 MB/s eta 0:00:01\n",
      "\u001b[?25hCollecting networkx\n",
      "  Downloading networkx-3.1-py3-none-any.whl (2.1 MB)\n",
      "\u001b[K     |████████████████████████████████| 2.1 MB 65.4 MB/s eta 0:00:01\n",
      "\u001b[?25hCollecting numba\n",
      "  Downloading numba-0.56.4-cp38-cp38-manylinux2014_x86_64.manylinux_2_17_x86_64.whl (3.5 MB)\n",
      "\u001b[K     |████████████████████████████████| 3.5 MB 98.6 MB/s eta 0:00:01\n",
      "\u001b[?25hRequirement already satisfied: numpy in /home/callistb/.local/lib/python3.8/site-packages (from torch-geometric==1.5.0) (1.24.2)\n",
      "Collecting pandas\n",
      "  Downloading pandas-2.0.1-cp38-cp38-manylinux_2_17_x86_64.manylinux2014_x86_64.whl (12.3 MB)\n",
      "\u001b[K     |████████████████████████████████| 12.3 MB 28.1 MB/s eta 0:00:01\n",
      "\u001b[?25hCollecting plyfile\n",
      "  Downloading plyfile-0.9-py3-none-any.whl (30 kB)\n",
      "Collecting rdflib\n",
      "  Downloading rdflib-6.3.2-py3-none-any.whl (528 kB)\n",
      "\u001b[K     |████████████████████████████████| 528 kB 99.7 MB/s eta 0:00:01\n",
      "\u001b[?25hRequirement already satisfied: requests in /usr/lib/python3/dist-packages (from torch-geometric==1.5.0) (2.22.0)\n",
      "Collecting scikit-learn\n",
      "  Downloading scikit_learn-1.2.2-cp38-cp38-manylinux_2_17_x86_64.manylinux2014_x86_64.whl (9.8 MB)\n",
      "\u001b[K     |████████████████████████████████| 9.8 MB 96.3 MB/s eta 0:00:01\n",
      "\u001b[?25hCollecting scipy\n",
      "  Downloading scipy-1.10.1-cp38-cp38-manylinux_2_17_x86_64.manylinux2014_x86_64.whl (34.5 MB)\n",
      "\u001b[K     |████████████████████████████████| 34.5 MB 95.7 MB/s eta 0:00:01\n",
      "\u001b[?25hRequirement already satisfied: torch in /home/callistb/.local/lib/python3.8/site-packages (from torch-geometric==1.5.0) (1.13.1)\n",
      "Requirement already satisfied: tqdm in /home/callistb/.local/lib/python3.8/site-packages (from torch-geometric==1.5.0) (4.64.1)\n",
      "Requirement already satisfied: matplotlib>=3.1.0 in /home/callistb/.local/lib/python3.8/site-packages (from ase->torch-geometric==1.5.0) (3.7.0)\n",
      "Requirement already satisfied: importlib-metadata; python_version < \"3.9\" in /home/callistb/.local/lib/python3.8/site-packages (from numba->torch-geometric==1.5.0) (6.0.0)\n",
      "Requirement already satisfied: setuptools in /usr/lib/python3/dist-packages (from numba->torch-geometric==1.5.0) (45.2.0)\n",
      "Collecting llvmlite<0.40,>=0.39.0dev0\n",
      "  Downloading llvmlite-0.39.1-cp38-cp38-manylinux_2_17_x86_64.manylinux2014_x86_64.whl (34.6 MB)\n",
      "\u001b[K     |████████████████████████████████| 34.6 MB 62.7 MB/s eta 0:00:01\n",
      "\u001b[?25hCollecting tzdata>=2022.1\n",
      "  Downloading tzdata-2023.3-py2.py3-none-any.whl (341 kB)\n",
      "\u001b[K     |████████████████████████████████| 341 kB 98.5 MB/s eta 0:00:01\n",
      "\u001b[?25hRequirement already satisfied: python-dateutil>=2.8.2 in /home/callistb/.local/lib/python3.8/site-packages (from pandas->torch-geometric==1.5.0) (2.8.2)\n",
      "Collecting pytz>=2020.1\n",
      "  Downloading pytz-2023.3-py2.py3-none-any.whl (502 kB)\n",
      "\u001b[K     |████████████████████████████████| 502 kB 71.7 MB/s eta 0:00:01\n",
      "\u001b[?25hCollecting isodate<0.7.0,>=0.6.0\n",
      "  Downloading isodate-0.6.1-py2.py3-none-any.whl (41 kB)\n",
      "\u001b[K     |████████████████████████████████| 41 kB 548 kB/s  eta 0:00:01\n",
      "\u001b[?25hRequirement already satisfied: pyparsing<4,>=2.1.0 in /home/callistb/.local/lib/python3.8/site-packages (from rdflib->torch-geometric==1.5.0) (3.0.9)\n",
      "Collecting joblib>=1.1.1\n",
      "  Downloading joblib-1.2.0-py3-none-any.whl (297 kB)\n",
      "\u001b[K     |████████████████████████████████| 297 kB 62.5 MB/s eta 0:00:01\n",
      "\u001b[?25hCollecting threadpoolctl>=2.0.0\n",
      "  Downloading threadpoolctl-3.1.0-py3-none-any.whl (14 kB)\n",
      "Requirement already satisfied: nvidia-cublas-cu11==11.10.3.66; platform_system == \"Linux\" in /home/callistb/.local/lib/python3.8/site-packages (from torch->torch-geometric==1.5.0) (11.10.3.66)\n",
      "Requirement already satisfied: nvidia-cudnn-cu11==8.5.0.96; platform_system == \"Linux\" in /home/callistb/.local/lib/python3.8/site-packages (from torch->torch-geometric==1.5.0) (8.5.0.96)\n",
      "Requirement already satisfied: typing-extensions in /home/callistb/.local/lib/python3.8/site-packages (from torch->torch-geometric==1.5.0) (4.4.0)\n",
      "Requirement already satisfied: nvidia-cuda-nvrtc-cu11==11.7.99; platform_system == \"Linux\" in /home/callistb/.local/lib/python3.8/site-packages (from torch->torch-geometric==1.5.0) (11.7.99)\n",
      "Requirement already satisfied: nvidia-cuda-runtime-cu11==11.7.99; platform_system == \"Linux\" in /home/callistb/.local/lib/python3.8/site-packages (from torch->torch-geometric==1.5.0) (11.7.99)\n",
      "Requirement already satisfied: contourpy>=1.0.1 in /home/callistb/.local/lib/python3.8/site-packages (from matplotlib>=3.1.0->ase->torch-geometric==1.5.0) (1.0.7)\n",
      "Requirement already satisfied: importlib-resources>=3.2.0; python_version < \"3.10\" in /home/callistb/.local/lib/python3.8/site-packages (from matplotlib>=3.1.0->ase->torch-geometric==1.5.0) (5.10.2)\n",
      "Requirement already satisfied: kiwisolver>=1.0.1 in /home/callistb/.local/lib/python3.8/site-packages (from matplotlib>=3.1.0->ase->torch-geometric==1.5.0) (1.4.4)\n",
      "Requirement already satisfied: cycler>=0.10 in /home/callistb/.local/lib/python3.8/site-packages (from matplotlib>=3.1.0->ase->torch-geometric==1.5.0) (0.11.0)\n",
      "Requirement already satisfied: pillow>=6.2.0 in /home/callistb/.local/lib/python3.8/site-packages (from matplotlib>=3.1.0->ase->torch-geometric==1.5.0) (9.4.0)\n",
      "Requirement already satisfied: fonttools>=4.22.0 in /home/callistb/.local/lib/python3.8/site-packages (from matplotlib>=3.1.0->ase->torch-geometric==1.5.0) (4.38.0)\n",
      "Requirement already satisfied: packaging>=20.0 in /home/callistb/.local/lib/python3.8/site-packages (from matplotlib>=3.1.0->ase->torch-geometric==1.5.0) (23.0)\n",
      "Requirement already satisfied: zipp>=0.5 in /home/callistb/.local/lib/python3.8/site-packages (from importlib-metadata; python_version < \"3.9\"->numba->torch-geometric==1.5.0) (3.13.0)\n",
      "Requirement already satisfied: six>=1.5 in /usr/lib/python3/dist-packages (from python-dateutil>=2.8.2->pandas->torch-geometric==1.5.0) (1.14.0)\n",
      "Requirement already satisfied: wheel in /usr/lib/python3/dist-packages (from nvidia-cublas-cu11==11.10.3.66; platform_system == \"Linux\"->torch->torch-geometric==1.5.0) (0.34.2)\n",
      "Building wheels for collected packages: torch-geometric\n",
      "  Building wheel for torch-geometric (setup.py) ... \u001b[?25ldone\n",
      "\u001b[?25h  Created wheel for torch-geometric: filename=torch_geometric-1.5.0-py3-none-any.whl size=267915 sha256=ee15fabc9b2da092454ff6081cf3c30692c965dfc6a7c67bb09b137002109b31\n",
      "  Stored in directory: /home/callistb/.cache/pip/wheels/cf/88/e7/da83c472d792ec829249b1d2bb07e9ef2b8140d00b9c435df2\n",
      "Successfully built torch-geometric\n",
      "\u001b[31mERROR: numba 0.56.4 has requirement numpy<1.24,>=1.18, but you'll have numpy 1.24.2 which is incompatible.\u001b[0m\n",
      "Installing collected packages: scipy, ase, googledrivedownloader, h5py, networkx, llvmlite, numba, tzdata, pytz, pandas, plyfile, isodate, rdflib, joblib, threadpoolctl, scikit-learn, torch-geometric\n",
      "Successfully installed ase-3.22.1 googledrivedownloader-0.4 h5py-3.8.0 isodate-0.6.1 joblib-1.2.0 llvmlite-0.39.1 networkx-3.1 numba-0.56.4 pandas-2.0.1 plyfile-0.9 pytz-2023.3 rdflib-6.3.2 scikit-learn-1.2.2 scipy-1.10.1 threadpoolctl-3.1.0 torch-geometric-1.5.0 tzdata-2023.3\n"
     ]
    }
   ],
   "source": [
    "!pip install torch-geometric==1.5.0"
   ]
  },
  {
   "cell_type": "code",
   "execution_count": 12,
   "id": "2e7ecaf4",
   "metadata": {},
   "outputs": [
    {
     "name": "stdout",
     "output_type": "stream",
     "text": [
      "Looking in links: https://pytorch-geometric.com/whl/torch-1.5.0+cu102.html\n",
      "Collecting torch-scatter\n",
      "  Downloading https://data.pyg.org/whl/torch-1.5.0%2Bcu102/torch_scatter-2.0.5-cp38-cp38-linux_x86_64.whl (12.4 MB)\n",
      "\u001b[K     |████████████████████████████████| 12.4 MB 30.7 MB/s eta 0:00:01\n",
      "\u001b[?25hInstalling collected packages: torch-scatter\n",
      "Successfully installed torch-scatter-2.0.5\n",
      "Looking in links: https://pytorch-geometric.com/whl/torch-1.5.0+cu102.html\n",
      "Collecting torch-sparse\n",
      "  Downloading https://data.pyg.org/whl/torch-1.5.0%2Bcu102/torch_sparse-0.6.7-cp38-cp38-linux_x86_64.whl (24.0 MB)\n",
      "\u001b[K     |████████████████████████████████| 24.0 MB 28.9 MB/s eta 0:00:01\n",
      "\u001b[?25hRequirement already satisfied: scipy in /home/callistb/.local/lib/python3.8/site-packages (from torch-sparse) (1.10.1)\n",
      "Requirement already satisfied: numpy<1.27.0,>=1.19.5 in /home/callistb/.local/lib/python3.8/site-packages (from scipy->torch-sparse) (1.24.2)\n",
      "Installing collected packages: torch-sparse\n",
      "Successfully installed torch-sparse-0.6.7\n",
      "Looking in links: https://pytorch-geometric.com/whl/torch-1.5.0+cu102.html\n",
      "Collecting torch-cluster\n",
      "  Downloading https://data.pyg.org/whl/torch-1.5.0%2Bcu102/torch_cluster-1.5.7-cp38-cp38-linux_x86_64.whl (21.3 MB)\n",
      "\u001b[K     |████████████████████████████████| 21.3 MB 1.8 MB/s eta 0:00:01\n",
      "\u001b[?25hInstalling collected packages: torch-cluster\n",
      "Successfully installed torch-cluster-1.5.7\n",
      "Looking in links: https://pytorch-geometric.com/whl/torch-1.5.0+cu102.html\n",
      "Collecting torch-spline-conv\n",
      "  Downloading https://data.pyg.org/whl/torch-1.5.0%2Bcu102/torch_spline_conv-1.2.0-cp38-cp38-linux_x86_64.whl (6.3 MB)\n",
      "\u001b[K     |████████████████████████████████| 6.3 MB 1.8 MB/s eta 0:00:01\n",
      "\u001b[?25hInstalling collected packages: torch-spline-conv\n",
      "Successfully installed torch-spline-conv-1.2.0\n",
      "Requirement already satisfied: torch-geometric==1.5.0 in /home/callistb/.local/lib/python3.8/site-packages (1.5.0)\n",
      "Requirement already satisfied: h5py in /home/callistb/.local/lib/python3.8/site-packages (from torch-geometric==1.5.0) (3.8.0)\n",
      "Requirement already satisfied: tqdm in /home/callistb/.local/lib/python3.8/site-packages (from torch-geometric==1.5.0) (4.64.1)\n",
      "Requirement already satisfied: rdflib in /home/callistb/.local/lib/python3.8/site-packages (from torch-geometric==1.5.0) (6.3.2)\n",
      "Requirement already satisfied: requests in /usr/lib/python3/dist-packages (from torch-geometric==1.5.0) (2.22.0)\n",
      "Requirement already satisfied: numpy in /home/callistb/.local/lib/python3.8/site-packages (from torch-geometric==1.5.0) (1.24.2)\n",
      "Requirement already satisfied: plyfile in /home/callistb/.local/lib/python3.8/site-packages (from torch-geometric==1.5.0) (0.9)\n",
      "Requirement already satisfied: scipy in /home/callistb/.local/lib/python3.8/site-packages (from torch-geometric==1.5.0) (1.10.1)\n",
      "Requirement already satisfied: scikit-learn in /home/callistb/.local/lib/python3.8/site-packages (from torch-geometric==1.5.0) (1.2.2)\n",
      "Requirement already satisfied: pandas in /home/callistb/.local/lib/python3.8/site-packages (from torch-geometric==1.5.0) (2.0.1)\n",
      "Requirement already satisfied: torch in /home/callistb/.local/lib/python3.8/site-packages (from torch-geometric==1.5.0) (1.13.1)\n",
      "Requirement already satisfied: networkx in /home/callistb/.local/lib/python3.8/site-packages (from torch-geometric==1.5.0) (3.1)\n",
      "Requirement already satisfied: ase in /home/callistb/.local/lib/python3.8/site-packages (from torch-geometric==1.5.0) (3.22.1)\n",
      "Requirement already satisfied: numba in /home/callistb/.local/lib/python3.8/site-packages (from torch-geometric==1.5.0) (0.56.4)\n",
      "Requirement already satisfied: googledrivedownloader in /home/callistb/.local/lib/python3.8/site-packages (from torch-geometric==1.5.0) (0.4)\n",
      "Requirement already satisfied: isodate<0.7.0,>=0.6.0 in /home/callistb/.local/lib/python3.8/site-packages (from rdflib->torch-geometric==1.5.0) (0.6.1)\n",
      "Requirement already satisfied: pyparsing<4,>=2.1.0 in /home/callistb/.local/lib/python3.8/site-packages (from rdflib->torch-geometric==1.5.0) (3.0.9)\n",
      "Requirement already satisfied: joblib>=1.1.1 in /home/callistb/.local/lib/python3.8/site-packages (from scikit-learn->torch-geometric==1.5.0) (1.2.0)\n",
      "Requirement already satisfied: threadpoolctl>=2.0.0 in /home/callistb/.local/lib/python3.8/site-packages (from scikit-learn->torch-geometric==1.5.0) (3.1.0)\n",
      "Requirement already satisfied: pytz>=2020.1 in /home/callistb/.local/lib/python3.8/site-packages (from pandas->torch-geometric==1.5.0) (2023.3)\n",
      "Requirement already satisfied: python-dateutil>=2.8.2 in /home/callistb/.local/lib/python3.8/site-packages (from pandas->torch-geometric==1.5.0) (2.8.2)\n",
      "Requirement already satisfied: tzdata>=2022.1 in /home/callistb/.local/lib/python3.8/site-packages (from pandas->torch-geometric==1.5.0) (2023.3)\n",
      "Requirement already satisfied: nvidia-cuda-nvrtc-cu11==11.7.99; platform_system == \"Linux\" in /home/callistb/.local/lib/python3.8/site-packages (from torch->torch-geometric==1.5.0) (11.7.99)\n",
      "Requirement already satisfied: typing-extensions in /home/callistb/.local/lib/python3.8/site-packages (from torch->torch-geometric==1.5.0) (4.4.0)\n",
      "Requirement already satisfied: nvidia-cuda-runtime-cu11==11.7.99; platform_system == \"Linux\" in /home/callistb/.local/lib/python3.8/site-packages (from torch->torch-geometric==1.5.0) (11.7.99)\n",
      "Requirement already satisfied: nvidia-cublas-cu11==11.10.3.66; platform_system == \"Linux\" in /home/callistb/.local/lib/python3.8/site-packages (from torch->torch-geometric==1.5.0) (11.10.3.66)\n",
      "Requirement already satisfied: nvidia-cudnn-cu11==8.5.0.96; platform_system == \"Linux\" in /home/callistb/.local/lib/python3.8/site-packages (from torch->torch-geometric==1.5.0) (8.5.0.96)\n",
      "Requirement already satisfied: matplotlib>=3.1.0 in /home/callistb/.local/lib/python3.8/site-packages (from ase->torch-geometric==1.5.0) (3.7.0)\n",
      "Requirement already satisfied: llvmlite<0.40,>=0.39.0dev0 in /home/callistb/.local/lib/python3.8/site-packages (from numba->torch-geometric==1.5.0) (0.39.1)\n",
      "Requirement already satisfied: importlib-metadata; python_version < \"3.9\" in /home/callistb/.local/lib/python3.8/site-packages (from numba->torch-geometric==1.5.0) (6.0.0)\n",
      "Requirement already satisfied: setuptools in /usr/lib/python3/dist-packages (from numba->torch-geometric==1.5.0) (45.2.0)\n",
      "Requirement already satisfied: six in /usr/lib/python3/dist-packages (from isodate<0.7.0,>=0.6.0->rdflib->torch-geometric==1.5.0) (1.14.0)\n",
      "Requirement already satisfied: wheel in /usr/lib/python3/dist-packages (from nvidia-cuda-runtime-cu11==11.7.99; platform_system == \"Linux\"->torch->torch-geometric==1.5.0) (0.34.2)\n",
      "Requirement already satisfied: cycler>=0.10 in /home/callistb/.local/lib/python3.8/site-packages (from matplotlib>=3.1.0->ase->torch-geometric==1.5.0) (0.11.0)\n",
      "Requirement already satisfied: kiwisolver>=1.0.1 in /home/callistb/.local/lib/python3.8/site-packages (from matplotlib>=3.1.0->ase->torch-geometric==1.5.0) (1.4.4)\n",
      "Requirement already satisfied: importlib-resources>=3.2.0; python_version < \"3.10\" in /home/callistb/.local/lib/python3.8/site-packages (from matplotlib>=3.1.0->ase->torch-geometric==1.5.0) (5.10.2)\n",
      "Requirement already satisfied: packaging>=20.0 in /home/callistb/.local/lib/python3.8/site-packages (from matplotlib>=3.1.0->ase->torch-geometric==1.5.0) (23.0)\n",
      "Requirement already satisfied: pillow>=6.2.0 in /home/callistb/.local/lib/python3.8/site-packages (from matplotlib>=3.1.0->ase->torch-geometric==1.5.0) (9.4.0)\n",
      "Requirement already satisfied: fonttools>=4.22.0 in /home/callistb/.local/lib/python3.8/site-packages (from matplotlib>=3.1.0->ase->torch-geometric==1.5.0) (4.38.0)\n",
      "Requirement already satisfied: contourpy>=1.0.1 in /home/callistb/.local/lib/python3.8/site-packages (from matplotlib>=3.1.0->ase->torch-geometric==1.5.0) (1.0.7)\n",
      "Requirement already satisfied: zipp>=0.5 in /home/callistb/.local/lib/python3.8/site-packages (from importlib-metadata; python_version < \"3.9\"->numba->torch-geometric==1.5.0) (3.13.0)\n"
     ]
    }
   ],
   "source": [
    "!cd GDN; bash install.sh"
   ]
  },
  {
   "cell_type": "code",
   "execution_count": 14,
   "id": "2e7103e3",
   "metadata": {},
   "outputs": [
    {
     "name": "stdout",
     "output_type": "stream",
     "text": [
      "Traceback (most recent call last):\r\n",
      "  File \"main.py\", line 18, in <module>\r\n",
      "    from models.GDN import GDN\r\n",
      "  File \"/home/callistb/basilisk-journal/2023-04-27/GDN/models/GDN.py\", line 8, in <module>\r\n",
      "    from torch_geometric.nn import GCNConv, GATConv, EdgeConv\r\n",
      "  File \"/home/callistb/.local/lib/python3.8/site-packages/torch_geometric/__init__.py\", line 2, in <module>\r\n",
      "    import torch_geometric.nn\r\n",
      "  File \"/home/callistb/.local/lib/python3.8/site-packages/torch_geometric/nn/__init__.py\", line 2, in <module>\r\n",
      "    from .data_parallel import DataParallel\r\n",
      "  File \"/home/callistb/.local/lib/python3.8/site-packages/torch_geometric/nn/data_parallel.py\", line 5, in <module>\r\n",
      "    from torch_geometric.data import Batch\r\n",
      "  File \"/home/callistb/.local/lib/python3.8/site-packages/torch_geometric/data/__init__.py\", line 1, in <module>\r\n",
      "    from .data import Data\r\n",
      "  File \"/home/callistb/.local/lib/python3.8/site-packages/torch_geometric/data/data.py\", line 7, in <module>\r\n",
      "    from torch_sparse import coalesce\r\n",
      "  File \"/home/callistb/.local/lib/python3.8/site-packages/torch_sparse/__init__.py\", line 12, in <module>\r\n",
      "    torch.ops.load_library(importlib.machinery.PathFinder().find_spec(\r\n",
      "  File \"/home/callistb/.local/lib/python3.8/site-packages/torch/_ops.py\", line 573, in load_library\r\n",
      "    ctypes.CDLL(path)\r\n",
      "  File \"/usr/lib/python3.8/ctypes/__init__.py\", line 373, in __init__\r\n",
      "    self._handle = _dlopen(self._name, mode)\r\n",
      "OSError: libcudart.so.10.2: cannot open shared object file: No such file or directory\r\n"
     ]
    }
   ],
   "source": [
    "!cd GDN; bash run.sh 0 msl"
   ]
  },
  {
   "cell_type": "markdown",
   "id": "80c7fab5",
   "metadata": {},
   "source": [
    "### Looks like the GPU isn't working because the CUDA 10.2 runtime isn't installed; I'll need a fix for this before I can proceed. In the meantime let's try CPU"
   ]
  },
  {
   "cell_type": "code",
   "execution_count": null,
   "id": "627d9133",
   "metadata": {},
   "outputs": [],
   "source": []
  },
  {
   "cell_type": "code",
   "execution_count": 15,
   "id": "e7603995",
   "metadata": {},
   "outputs": [
    {
     "name": "stdout",
     "output_type": "stream",
     "text": [
      "Traceback (most recent call last):\r\n",
      "  File \"main.py\", line 18, in <module>\r\n",
      "    from models.GDN import GDN\r\n",
      "  File \"/home/callistb/basilisk-journal/2023-04-27/GDN/models/GDN.py\", line 8, in <module>\r\n",
      "    from torch_geometric.nn import GCNConv, GATConv, EdgeConv\r\n",
      "  File \"/home/callistb/.local/lib/python3.8/site-packages/torch_geometric/__init__.py\", line 2, in <module>\r\n",
      "    import torch_geometric.nn\r\n",
      "  File \"/home/callistb/.local/lib/python3.8/site-packages/torch_geometric/nn/__init__.py\", line 2, in <module>\r\n",
      "    from .data_parallel import DataParallel\r\n",
      "  File \"/home/callistb/.local/lib/python3.8/site-packages/torch_geometric/nn/data_parallel.py\", line 5, in <module>\r\n",
      "    from torch_geometric.data import Batch\r\n",
      "  File \"/home/callistb/.local/lib/python3.8/site-packages/torch_geometric/data/__init__.py\", line 1, in <module>\r\n",
      "    from .data import Data\r\n",
      "  File \"/home/callistb/.local/lib/python3.8/site-packages/torch_geometric/data/data.py\", line 7, in <module>\r\n",
      "    from torch_sparse import coalesce\r\n",
      "  File \"/home/callistb/.local/lib/python3.8/site-packages/torch_sparse/__init__.py\", line 12, in <module>\r\n",
      "    torch.ops.load_library(importlib.machinery.PathFinder().find_spec(\r\n",
      "  File \"/home/callistb/.local/lib/python3.8/site-packages/torch/_ops.py\", line 573, in load_library\r\n",
      "    ctypes.CDLL(path)\r\n",
      "  File \"/usr/lib/python3.8/ctypes/__init__.py\", line 373, in __init__\r\n",
      "    self._handle = _dlopen(self._name, mode)\r\n",
      "OSError: libcudart.so.10.2: cannot open shared object file: No such file or directory\r\n"
     ]
    }
   ],
   "source": [
    "!cd GDN; bash run.sh cpu msl"
   ]
  },
  {
   "cell_type": "markdown",
   "id": "8ce7c6b6",
   "metadata": {},
   "source": [
    "### Oops. ok time to figure out how to install a cuda runtime in userspace -_-\n",
    "\n",
    "sent an email to oit, waiting on reply"
   ]
  },
  {
   "cell_type": "code",
   "execution_count": null,
   "id": "c3b53289",
   "metadata": {},
   "outputs": [],
   "source": []
  },
  {
   "cell_type": "code",
   "execution_count": null,
   "id": "20f7f6b7",
   "metadata": {},
   "outputs": [],
   "source": []
  },
  {
   "cell_type": "code",
   "execution_count": null,
   "id": "aeebd987",
   "metadata": {},
   "outputs": [],
   "source": []
  },
  {
   "cell_type": "code",
   "execution_count": null,
   "id": "7a9c24bc",
   "metadata": {},
   "outputs": [],
   "source": []
  },
  {
   "cell_type": "code",
   "execution_count": null,
   "id": "4e000915",
   "metadata": {},
   "outputs": [],
   "source": []
  },
  {
   "cell_type": "code",
   "execution_count": null,
   "id": "d701fb16",
   "metadata": {},
   "outputs": [],
   "source": []
  },
  {
   "cell_type": "code",
   "execution_count": null,
   "id": "ae68601f",
   "metadata": {},
   "outputs": [],
   "source": []
  },
  {
   "cell_type": "code",
   "execution_count": null,
   "id": "94a7390a",
   "metadata": {},
   "outputs": [],
   "source": []
  },
  {
   "cell_type": "code",
   "execution_count": null,
   "id": "8ed3d1cd",
   "metadata": {},
   "outputs": [],
   "source": []
  },
  {
   "cell_type": "code",
   "execution_count": null,
   "id": "aa6c2213",
   "metadata": {},
   "outputs": [],
   "source": []
  }
 ],
 "metadata": {
  "kernelspec": {
   "display_name": "Python 3 (ipykernel)",
   "language": "python",
   "name": "python3"
  },
  "language_info": {
   "codemirror_mode": {
    "name": "ipython",
    "version": 3
   },
   "file_extension": ".py",
   "mimetype": "text/x-python",
   "name": "python",
   "nbconvert_exporter": "python",
   "pygments_lexer": "ipython3",
   "version": "3.8.10"
  }
 },
 "nbformat": 4,
 "nbformat_minor": 5
}
